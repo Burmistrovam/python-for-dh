{
 "cells": [
  {
   "cell_type": "markdown",
   "metadata": {},
   "source": [
    "## Структуры данных (продолжение)\n",
    "### Словари\n",
    "\n",
    "**Словарь** (ассоциативный массив) -- это такая структура данных, где объекты хранятся в неупорядоченном виде в парах \"ключ : значение\" и доступны по ключу. \n",
    "\n",
    "Если в массиве индексы объектов, по которым можно получить к ним доступ, создаются без участия человека, то в словаре вы сами выбираете ключ.\n",
    "\n",
    "Создать пустой словарь можно так:\n"
   ]
  },
  {
   "cell_type": "code",
   "execution_count": 1,
   "metadata": {
    "collapsed": false
   },
   "outputs": [
    {
     "name": "stdout",
     "output_type": "stream",
     "text": [
      "<class 'dict'>\n",
      "<class 'dict'>\n"
     ]
    }
   ],
   "source": [
    "# с помощью скобочек, как список или кортеж\n",
    "d = {}\n",
    "print(type(d))\n",
    "\n",
    "# с помощью соответствующей функции, как любую структуру данных\n",
    "d = dict()\n",
    "print(type(d))"
   ]
  },
  {
   "cell_type": "markdown",
   "metadata": {},
   "source": [
    "А теперь создадим словарь с данными. Это тоже можно сделать разными способами:"
   ]
  },
  {
   "cell_type": "code",
   "execution_count": 4,
   "metadata": {
    "collapsed": false
   },
   "outputs": [
    {
     "name": "stdout",
     "output_type": "stream",
     "text": [
      "{'Russia': 'Moscow', 'France': 'Paris'}\n",
      "{1: 1, 2: 4, 3: 9, 4: 16}\n"
     ]
    }
   ],
   "source": [
    "# функция dict()\n",
    "capitals = dict(Russia = \"Moscow\", France = \"Paris\")\n",
    "print(capitals)\n",
    "\n",
    "# скобочки\n",
    "squared = {1:1, 2:4, 3:9, 4:16}\n",
    "print(squared)"
   ]
  },
  {
   "cell_type": "markdown",
   "metadata": {},
   "source": [
    "**NB!** *Ключи (keys)* в словаре должны быть уникальны, как и индексы в массиве, а вот *значения (values)* могут повторяться."
   ]
  },
  {
   "cell_type": "code",
   "execution_count": 6,
   "metadata": {
    "collapsed": false
   },
   "outputs": [
    {
     "name": "stdout",
     "output_type": "stream",
     "text": [
      "{'a': 'vowel', 'b': 'consonant', 'c': 'consonant'}\n",
      "{'uneven': 3, 'even': 4}\n"
     ]
    }
   ],
   "source": [
    "# так можно\n",
    "sounds = {\"a\":\"vowel\", \"b\":\"consonant\", \"c\":\"consonant\"}\n",
    "print(sounds)\n",
    "\n",
    "# а так нельзя (проанализируйте результат)\n",
    "numbers = {\"uneven\":1, \"even\":2, \"uneven\":3, \"even\":4}\n",
    "print(numbers)"
   ]
  },
  {
   "cell_type": "markdown",
   "metadata": {},
   "source": [
    "**NB!** В качестве значения может выступать любой тип или структура данных. Всё, что угодно и какой угодно сложности. Ключом же может быть только:\n",
    "\n",
    "* целое число (int)\n",
    "* дробное число (float)\n",
    "* строка (str)\n",
    "* кортеж (tuple)\n",
    "\n",
    "Все это *неизменяемые типы данных* (просто запомните формулировку)."
   ]
  },
  {
   "cell_type": "code",
   "execution_count": 10,
   "metadata": {
    "collapsed": false
   },
   "outputs": [
    {
     "name": "stdout",
     "output_type": "stream",
     "text": [
      "{'Europe': {'France': ('Paris', 'French'), 'Germany': ('Berlin', 'German')}, 'Asia': {'China': ('Beijing', 'Chinese'), 'Japan': ('Tokyo', 'Japanese')}}\n"
     ]
    },
    {
     "ename": "TypeError",
     "evalue": "unhashable type: 'list'",
     "output_type": "error",
     "traceback": [
      "\u001b[0;31m---------------------------------------------------------------------------\u001b[0m",
      "\u001b[0;31mTypeError\u001b[0m                                 Traceback (most recent call last)",
      "\u001b[0;32m<ipython-input-10-f45e2f0aedea>\u001b[0m in \u001b[0;36m<module>\u001b[0;34m()\u001b[0m\n\u001b[1;32m      4\u001b[0m \u001b[1;33m\u001b[0m\u001b[0m\n\u001b[1;32m      5\u001b[0m \u001b[1;31m# а вот так нельзя\u001b[0m\u001b[1;33m\u001b[0m\u001b[1;33m\u001b[0m\u001b[0m\n\u001b[0;32m----> 6\u001b[0;31m \u001b[0mlangs\u001b[0m \u001b[1;33m=\u001b[0m \u001b[1;33m{\u001b[0m\u001b[1;33m[\u001b[0m\u001b[1;34m\"Danish, German, English\"\u001b[0m\u001b[1;33m]\u001b[0m\u001b[1;33m:\u001b[0m \u001b[1;34m\"Germanic\"\u001b[0m\u001b[1;33m,\u001b[0m \u001b[1;33m[\u001b[0m\u001b[1;34m\"Irish\"\u001b[0m\u001b[1;33m,\u001b[0m \u001b[1;34m\"Welsh\"\u001b[0m\u001b[1;33m]\u001b[0m\u001b[1;33m:\u001b[0m \u001b[1;34m\"Celtic\"\u001b[0m\u001b[1;33m}\u001b[0m\u001b[1;33m\u001b[0m\u001b[0m\n\u001b[0m",
      "\u001b[0;31mTypeError\u001b[0m: unhashable type: 'list'"
     ]
    }
   ],
   "source": [
    "# это большой сложный словарь, и это нормально :)\n",
    "world = {\"Europe\":{\"France\":(\"Paris\", \"French\"), \"Germany\":(\"Berlin\", \"German\")}, \"Asia\": {\"China\":(\"Beijing\", \"Chinese\"), \"Japan\":(\"Tokyo\", \"Japanese\")}}\n",
    "print(world)\n",
    "\n",
    "# а вот так нельзя\n",
    "langs = {[\"Danish, German, English\"]: \"Germanic\", [\"Irish\", \"Welsh\"]: \"Celtic\"}"
   ]
  },
  {
   "cell_type": "markdown",
   "metadata": {},
   "source": [
    "### Добавление и удаление элементов\n",
    "\n",
    "Чтобы добавить элемент в словарь нужно указать новый ключ и значение."
   ]
  },
  {
   "cell_type": "code",
   "execution_count": 11,
   "metadata": {
    "collapsed": false
   },
   "outputs": [
    {
     "name": "stdout",
     "output_type": "stream",
     "text": [
      "{'a': 'vowel', 'b': 'consonant', 'c': 'consonant', 'd': 'consonant', 'e': 'vowel'}\n"
     ]
    }
   ],
   "source": [
    "# добавим новые пары \"ключ : значение\" в существующий словарь sounds\n",
    "\n",
    "sounds[\"d\"] = \"consonant\"\n",
    "sounds[\"e\"] = \"vowel\"\n",
    "\n",
    "print(sounds)"
   ]
  },
  {
   "cell_type": "markdown",
   "metadata": {},
   "source": [
    "Удалить элемент можно с помощью команды `del()`."
   ]
  },
  {
   "cell_type": "code",
   "execution_count": 12,
   "metadata": {
    "collapsed": false
   },
   "outputs": [
    {
     "name": "stdout",
     "output_type": "stream",
     "text": [
      "{'a': 'vowel', 'b': 'consonant', 'c': 'consonant', 'd': 'consonant'}\n"
     ]
    }
   ],
   "source": [
    "del sounds[\"e\"] # словарь[ключ]\n",
    "print(sounds)"
   ]
  },
  {
   "cell_type": "markdown",
   "metadata": {},
   "source": [
    "А вот так можно достать элемент из словаря по ключу."
   ]
  },
  {
   "cell_type": "code",
   "execution_count": 13,
   "metadata": {
    "collapsed": false
   },
   "outputs": [
    {
     "data": {
      "text/plain": [
       "'Paris'"
      ]
     },
     "execution_count": 13,
     "metadata": {},
     "output_type": "execute_result"
    }
   ],
   "source": [
    "# так-так, что у нас там столица Франции?\n",
    "capitals[\"France\"]"
   ]
  },
  {
   "cell_type": "markdown",
   "metadata": {},
   "source": [
    "Иногда бывает полезно проверить наличие ключа в словаре. Это можно сделать с помощью уже знакомого нам оператора `in`."
   ]
  },
  {
   "cell_type": "code",
   "execution_count": 15,
   "metadata": {
    "collapsed": false
   },
   "outputs": [
    {
     "name": "stdout",
     "output_type": "stream",
     "text": [
      "True\n",
      "False\n"
     ]
    }
   ],
   "source": [
    "print(\"Russia\" in capitals)\n",
    "print(\"Italy\" in capitals)"
   ]
  },
  {
   "cell_type": "markdown",
   "metadata": {},
   "source": [
    "### Некоторые методы словарей\n",
    "\n",
    "* `keys()` -- достаем из словаря все ключи"
   ]
  },
  {
   "cell_type": "code",
   "execution_count": 17,
   "metadata": {
    "collapsed": false
   },
   "outputs": [
    {
     "name": "stdout",
     "output_type": "stream",
     "text": [
      "dict_keys(['Russia', 'France'])\n"
     ]
    }
   ],
   "source": [
    "print(capitals.keys())"
   ]
  },
  {
   "cell_type": "markdown",
   "metadata": {},
   "source": [
    "* `values()` -- достаем из словаря все значения"
   ]
  },
  {
   "cell_type": "code",
   "execution_count": 18,
   "metadata": {
    "collapsed": false
   },
   "outputs": [
    {
     "name": "stdout",
     "output_type": "stream",
     "text": [
      "dict_values(['Moscow', 'Paris'])\n"
     ]
    }
   ],
   "source": [
    "print(capitals.values())"
   ]
  },
  {
   "cell_type": "markdown",
   "metadata": {},
   "source": [
    "* `items()` -- достаем из словаря все пары ключей со значениями"
   ]
  },
  {
   "cell_type": "code",
   "execution_count": 19,
   "metadata": {
    "collapsed": false
   },
   "outputs": [
    {
     "name": "stdout",
     "output_type": "stream",
     "text": [
      "dict_items([('Russia', 'Moscow'), ('France', 'Paris')])\n"
     ]
    }
   ],
   "source": [
    "print(capitals.items())"
   ]
  },
  {
   "cell_type": "markdown",
   "metadata": {},
   "source": [
    "Эти три метода очень важны, и мы еще вернемся к ним в занятии про циклы.\n",
    "\n",
    "Кроме того, можно скопировать словарь (`copy()`), обновить его (`update()`) и удалить все его содержимое (`clear()`)."
   ]
  },
  {
   "cell_type": "code",
   "execution_count": 22,
   "metadata": {
    "collapsed": false
   },
   "outputs": [
    {
     "name": "stdout",
     "output_type": "stream",
     "text": [
      "{'Russia': 'Moscow', 'France': 'Paris'}\n",
      "{'Russia': 'Saint-Petersburg', 'France': 'Paris', 'Turkey': 'Istanbul'}\n",
      "{}\n"
     ]
    }
   ],
   "source": [
    "# копируем словарь\n",
    "\n",
    "old_capitals = capitals.copy()\n",
    "print(old_capitals)\n",
    "\n",
    "# обновляем данные на основании другого словаря; проанализируйте происходящее\n",
    "old_capitals.update({\"Russia\":\"Saint-Petersburg\", \"Turkey\": \"Istanbul\"})\n",
    "print(old_capitals)\n",
    "\n",
    "# очищаем словарь\n",
    "old_capitals.clear()\n",
    "print(old_capitals)"
   ]
  },
  {
   "cell_type": "markdown",
   "metadata": {},
   "source": [
    "## Функции\n",
    "\n",
    "**Функция** -- это такой фрагмент кода, у которого есть имя и к которому можно обратиться из любого места вашей программы. Мы уже работали со встроенными питоновскими функциями, помните? Прило время научиться создавать свои. :)\n",
    "\n",
    "Функция, как правило, принимает на вход аргумент(ы) и возвращает значение(я).\n",
    "\n",
    "### Создание функций\n",
    "\n",
    "Для создания функции используется ключевое слово `def`, после которого указывается имя и список аргументов в круглых скобках. Тело функции выделяется также как тело условия (или цикла): четырьмя пробелами. Таким образом самая простая функция, которая ничего не делает, будет выглядеть так."
   ]
  },
  {
   "cell_type": "code",
   "execution_count": 23,
   "metadata": {
    "collapsed": true
   },
   "outputs": [],
   "source": [
    "def my_function():\n",
    "    pass"
   ]
  },
  {
   "cell_type": "markdown",
   "metadata": {},
   "source": [
    "Для того, чтобы функция что-то вернула, нужно использовать ключевое слово `return`. Вот пример функции, которая возвращает константу. "
   ]
  },
  {
   "cell_type": "code",
   "execution_count": 24,
   "metadata": {
    "collapsed": false
   },
   "outputs": [
    {
     "data": {
      "text/plain": [
       "'Hello world!'"
      ]
     },
     "execution_count": 24,
     "metadata": {},
     "output_type": "execute_result"
    }
   ],
   "source": [
    "# определение функции\n",
    "def my_function():\n",
    "    return \"Hello world!\"\n",
    "\n",
    "# вызов функции\n",
    "my_function()"
   ]
  },
  {
   "cell_type": "markdown",
   "metadata": {},
   "source": [
    "**NB!** Даже если у функции нет аргументов, как в примере выше, при вызове ее все равно нужно писать со скобочками! Скобочки -- это формальное (на уровне синтаксиса) отличие функций от переменных.\n",
    "\n",
    "Функции создают для того, чтобы много раз не повторять один и тот же код, ведь часто для обработки данных нам нужны одни и те же действия. \n",
    "\n",
    "Напишем функцию, которая проверяет, гласной или согласной является буква. Назовем ее `sounds()`, и пусть она принимает на вход один аргумент `sound` -- букву, принадлежность которой к гласным или согласным нужно определить. Дальше проверим некоторые условия (обратите внимание, что здесь учтено далеко не все, что может ввести пользователь!) и в зависимости от этого вернем результат.\n"
   ]
  },
  {
   "cell_type": "code",
   "execution_count": 25,
   "metadata": {
    "collapsed": false
   },
   "outputs": [
    {
     "name": "stdout",
     "output_type": "stream",
     "text": [
      "Введите букву русского алфавита\n",
      "р\n"
     ]
    },
    {
     "data": {
      "text/plain": [
       "'Это согласная!'"
      ]
     },
     "execution_count": 25,
     "metadata": {},
     "output_type": "execute_result"
    }
   ],
   "source": [
    "# определение функции\n",
    "def sounds(sound):\n",
    "    vowels = [\"а\", \"о\", \"и\", \"е\", \"у\", \"ы\"]\n",
    "    if len(sound) > 1 or len(sound) < 1:\n",
    "        print(\"Введены неверные данные\")\n",
    "    else:\n",
    "        if sound in vowels:\n",
    "            return \"Это гласная!\"\n",
    "        else:\n",
    "            return \"Это согласная!\"\n",
    "\n",
    "# вызов функции        \n",
    "sounds(input(\"Введите букву русского алфавита\\n\"))"
   ]
  },
  {
   "cell_type": "markdown",
   "metadata": {},
   "source": [
    "Условия тут вовсе необязательны. Можно написать, например, вот такую простенькую функцию для подсчета суммы двух аргументов."
   ]
  },
  {
   "cell_type": "code",
   "execution_count": 26,
   "metadata": {
    "collapsed": false
   },
   "outputs": [
    {
     "name": "stdout",
     "output_type": "stream",
     "text": [
      "1523\n",
      "134.4\n",
      "abcdef\n"
     ]
    }
   ],
   "source": [
    "def addition(x, y):\n",
    "    return x + y\n",
    "\n",
    "print(addition(589, 934))\n",
    "print(addition(56, 78.4))\n",
    "print(addition(\"abc\", \"def\"))"
   ]
  },
  {
   "cell_type": "markdown",
   "metadata": {},
   "source": [
    "У функции могут быть обязательные и необязательные аргументы. Необязательные аргументы имеют значение по умолчанию и пишутся после обязательных. \n",
    "\n",
    "Например, вот функция, которая возвращает фразы с заданным словом на русском или английском языке. Язык по умолчанию -- русский, т.е. если нам нужен русский, то второй аргумент можно функции не подавать. "
   ]
  },
  {
   "cell_type": "code",
   "execution_count": 29,
   "metadata": {
    "collapsed": false
   },
   "outputs": [
    {
     "name": "stdout",
     "output_type": "stream",
     "text": [
      "Это дом\n",
      "This is a cat\n"
     ]
    }
   ],
   "source": [
    "def this_is(word, lang = \"ru\"):\n",
    "    if lang == \"en\":\n",
    "        return \"This is a \" + word\n",
    "    if lang == \"ru\":\n",
    "        return \"Это \" + word\n",
    "    \n",
    "print(this_is(\"дом\"))\n",
    "print(this_is(\"cat\", \"en\"))"
   ]
  },
  {
   "cell_type": "markdown",
   "metadata": {},
   "source": [
    "### Задание\n",
    "\n",
    "1. Напишите функцию, которая принимает на вход имя (строку) и словарь. В словаре должны храниться имена (ключи) и номера телефонов (значения). Имена не должны повторяться, а в номерах телефонов должны быть только цифры!\n",
    "2. Функция должна проверять, есть ли имя в словаре, и если есть, то возвращать номер телефона этого человека.\n",
    "3. Если имени нет в словаре, программа должна написать, что такого имени нет в телефонной книге, предложить ввести номер телефона через `input()`, добавить новую запись в словарь и вернуть словарь."
   ]
  }
 ],
 "metadata": {
  "kernelspec": {
   "display_name": "Python 3",
   "language": "python",
   "name": "python3"
  },
  "language_info": {
   "codemirror_mode": {
    "name": "ipython",
    "version": 3
   },
   "file_extension": ".py",
   "mimetype": "text/x-python",
   "name": "python",
   "nbconvert_exporter": "python",
   "pygments_lexer": "ipython3",
   "version": "3.6.0"
  }
 },
 "nbformat": 4,
 "nbformat_minor": 2
}
