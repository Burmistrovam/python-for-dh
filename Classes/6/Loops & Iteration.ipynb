{
 "cells": [
  {
   "cell_type": "markdown",
   "metadata": {},
   "source": [
    "## Цикл while\n",
    "\n",
    "Этот цикл позволяет выполнять одни и те же действия, пока выполняется условие. Сначала записывается условие, а на следующей строке (строках) после отступа -- действие, которое нжно выполнить при соблюдении условия."
   ]
  },
  {
   "cell_type": "code",
   "execution_count": 1,
   "metadata": {
    "collapsed": false
   },
   "outputs": [
    {
     "name": "stdout",
     "output_type": "stream",
     "text": [
      "Введите слово\n",
      "питон\n",
      "питон\n",
      "пито\n",
      "пит\n",
      "пи\n",
      "п\n"
     ]
    }
   ],
   "source": [
    "word = input(\"Введите слово\\n\")\n",
    "\n",
    "# на каждой итерации отрезаем от слова последнюю букву, пока букв не останется\n",
    "while len(word) > 0:\n",
    "    print(word)\n",
    "    word = word[:-1] "
   ]
  },
  {
   "cell_type": "markdown",
   "metadata": {},
   "source": [
    "После тела цикла можно написать слово else, а после него -- блок операций, который будет выполнен **один** раз после окончания цикла, когда проверяемое условие станет неверно. Добавим в предыдущий цикл else."
   ]
  },
  {
   "cell_type": "code",
   "execution_count": 2,
   "metadata": {
    "collapsed": false
   },
   "outputs": [
    {
     "name": "stdout",
     "output_type": "stream",
     "text": [
      "Введите слово\n",
      "питон\n",
      "питон\n",
      "пито\n",
      "пит\n",
      "пи\n",
      "п\n",
      "Букв больше нет!\n"
     ]
    }
   ],
   "source": [
    "word = input(\"Введите слово\\n\")\n",
    "\n",
    "while len(word) > 0:\n",
    "    print(word)\n",
    "    word = word[:-1] \n",
    "else:\n",
    "    print(\"Букв больше нет!\")"
   ]
  },
  {
   "cell_type": "markdown",
   "metadata": {},
   "source": [
    "## Цикл for\n",
    "\n",
    "Этот цикл проходится по любому итерируемому объекту и во время каждого прохода (итерации) выполняет действия, описанные в теле цикла. Вспомним, какие объекты являются итерируемыми:\n",
    "\n",
    "* строка\n",
    "* список\n",
    "* кортеж\n",
    "* диапазон"
   ]
  },
  {
   "cell_type": "code",
   "execution_count": 3,
   "metadata": {
    "collapsed": false
   },
   "outputs": [
    {
     "name": "stdout",
     "output_type": "stream",
     "text": [
      "красный\n",
      "оранжевый\n",
      "жёлтый\n",
      "зелёный\n",
      "голубой\n",
      "синий\n",
      "фиолетовый\n"
     ]
    }
   ],
   "source": [
    "rainbow = ['красный', 'оранжевый', 'жёлтый', 'зелёный', 'голубой', 'синий', 'фиолетовый']\n",
    "\n",
    "# итерация по списку\n",
    "for colour in rainbow:\n",
    "    print(colour)"
   ]
  },
  {
   "cell_type": "code",
   "execution_count": 8,
   "metadata": {
    "collapsed": false
   },
   "outputs": [
    {
     "name": "stdout",
     "output_type": "stream",
     "text": [
      "Введите слово\n",
      "python\n",
      "p y t h o n "
     ]
    }
   ],
   "source": [
    "word = input(\"Введите слово\\n\")\n",
    "\n",
    "# разреженный текст\n",
    "for letter in word:\n",
    "    print(letter + ' ', end = '')"
   ]
  },
  {
   "cell_type": "markdown",
   "metadata": {},
   "source": [
    "## Итерация по ключам и значениям словаря\n",
    "\n",
    "Вспоминаем методы `keys()`, `values()` и `items()` из прошлого семинара."
   ]
  },
  {
   "cell_type": "code",
   "execution_count": 9,
   "metadata": {
    "collapsed": false
   },
   "outputs": [
    {
     "name": "stdout",
     "output_type": "stream",
     "text": [
      "There is a country called Russia\n",
      "There is a country called France\n",
      "There is a country called Turkey\n",
      "There is a country called Georgia\n",
      "There is a city called Moscow\n",
      "There is a city called Paris\n",
      "There is a city called Ankara\n",
      "There is a city called Tbilisi\n",
      "Moscow is the capital of Russia\n",
      "Paris is the capital of France\n",
      "Ankara is the capital of Turkey\n",
      "Tbilisi is the capital of Georgia\n"
     ]
    }
   ],
   "source": [
    "capitals = {\"Russia\": \"Moscow\", \"France\": \"Paris\", \"Turkey\": \"Ankara\", \"Georgia\": \"Tbilisi\"}\n",
    "\n",
    "# итерация по ключам словаря\n",
    "for key in capitals.keys():\n",
    "    print(\"There is a country called\", key)\n",
    "    \n",
    "# итерация по значениям словаря\n",
    "for value in capitals.values():\n",
    "    print(\"There is a city called\", value)\n",
    "    \n",
    "# итерация по ключам и значениям\n",
    "for k, v in capitals.items():\n",
    "    print(v, \"is the capital of\", k)"
   ]
  },
  {
   "cell_type": "markdown",
   "metadata": {},
   "source": [
    "## Функция range()\n",
    "\n",
    "Для повторения цикла некоторое заданное число раз n можно использовать цикл `for` вместе с функцией `range()`."
   ]
  },
  {
   "cell_type": "code",
   "execution_count": 12,
   "metadata": {
    "collapsed": false
   },
   "outputs": [
    {
     "name": "stdout",
     "output_type": "stream",
     "text": [
      "!\n",
      "a!\n",
      "aa!\n",
      "aaa!\n",
      "aaaa!\n",
      "aaaaa!\n",
      "aaaaaa!\n",
      "aaaaaaa!\n",
      "aaaaaaaa!\n",
      "aaaaaaaaa!\n"
     ]
    }
   ],
   "source": [
    "# до 10\n",
    "for i in range(10): \n",
    "    print(\"a\" * i, \"!\", sep=\"\")   "
   ]
  },
  {
   "cell_type": "code",
   "execution_count": 13,
   "metadata": {
    "collapsed": false
   },
   "outputs": [
    {
     "name": "stdout",
     "output_type": "stream",
     "text": [
      "aaaaa!\n",
      "aaaaaa!\n",
      "aaaaaaa!\n",
      "aaaaaaaa!\n",
      "aaaaaaaaa!\n"
     ]
    }
   ],
   "source": [
    "# от 5 до 10\n",
    "for i in range(5, 10): \n",
    "    print(\"a\" * i, \"!\", sep=\"\")  "
   ]
  },
  {
   "cell_type": "code",
   "execution_count": 14,
   "metadata": {
    "collapsed": false
   },
   "outputs": [
    {
     "name": "stdout",
     "output_type": "stream",
     "text": [
      "aaaaa!\n",
      "aaaaaaa!\n",
      "aaaaaaaaa!\n"
     ]
    }
   ],
   "source": [
    "# от 5 до 10 с шагом 2\n",
    "for i in range(5, 10, 2): \n",
    "    print(\"a\" * i, \"!\", sep=\"\")   "
   ]
  },
  {
   "cell_type": "markdown",
   "metadata": {},
   "source": [
    "## continue\n",
    "\n",
    "Оператор `continue` начинает следующий проход цикла, минуя оставшееся тело цикла (for или while). Иными словами, если continue встречается где-то посередине цикла, то пропускаются все оставшиеся действия до его конца, и исполнение цикла продолжается со следующей итерации. "
   ]
  },
  {
   "cell_type": "code",
   "execution_count": 15,
   "metadata": {
    "collapsed": false
   },
   "outputs": [
    {
     "name": "stdout",
     "output_type": "stream",
     "text": [
      "cat\n",
      "is\n",
      "on\n",
      "mat\n"
     ]
    }
   ],
   "source": [
    "for word in \"the cat is on the mat\".split():\n",
    "    if word == \"the\":\n",
    "        continue\n",
    "    print(word)"
   ]
  },
  {
   "cell_type": "markdown",
   "metadata": {},
   "source": [
    "## break\n",
    "\n",
    "Оператор `break` досрочно прерывает цикл. Не итерацию, в отличие от continue, а цикл вообще!"
   ]
  },
  {
   "cell_type": "code",
   "execution_count": 16,
   "metadata": {
    "collapsed": false
   },
   "outputs": [
    {
     "name": "stdout",
     "output_type": "stream",
     "text": [
      "the\n",
      "cat\n"
     ]
    }
   ],
   "source": [
    "for word in \"the cat is on the mat\".split():\n",
    "    if len(word) < 3:\n",
    "        break\n",
    "    print(word)"
   ]
  },
  {
   "cell_type": "markdown",
   "metadata": {},
   "source": [
    "## Обработка исключений\n",
    "\n",
    "Чтобы программа не падала с ошибкой, натолкнувшись на что-то непредвиденное, можно обернуть необходимый блок действий в конструктор `try - except`"
   ]
  },
  {
   "cell_type": "code",
   "execution_count": 19,
   "metadata": {
    "collapsed": false
   },
   "outputs": [
    {
     "name": "stdout",
     "output_type": "stream",
     "text": [
      "Введите слово\n",
      "cat\n",
      "Это слово короче 5 букв\n"
     ]
    }
   ],
   "source": [
    "word = input(\"Введите слово\\n\")\n",
    "\n",
    "try:\n",
    "    letter = word[4]\n",
    "    print('Пятая буква в этом слове', letter, sep = ' - ')\n",
    "except IndexError:\n",
    "    print('Это слово короче 5 букв')"
   ]
  },
  {
   "cell_type": "markdown",
   "metadata": {},
   "source": [
    "## pass\n",
    "\n",
    "Оператор-заглушка, равноценный отсутствию операции. В ходе исполнения данного оператора ничего не происходит, поэтому он может использоваться в качестве заглушки в тех местах, где это синтаксически необходимо, например: в инструкциях, где тело является обязательным, таких как `def`, `except` и пр."
   ]
  },
  {
   "cell_type": "code",
   "execution_count": 20,
   "metadata": {
    "collapsed": false
   },
   "outputs": [
    {
     "name": "stdout",
     "output_type": "stream",
     "text": [
      "Введите слово\n",
      "cat\n"
     ]
    }
   ],
   "source": [
    "word = input(\"Введите слово\\n\")\n",
    "\n",
    "try:\n",
    "    letter = word[4]\n",
    "    print('Пятая буква в этом слове', letter, sep = ' - ')\n",
    "except IndexError:\n",
    "    pass"
   ]
  }
 ],
 "metadata": {
  "kernelspec": {
   "display_name": "Python 3",
   "language": "python",
   "name": "python3"
  },
  "language_info": {
   "codemirror_mode": {
    "name": "ipython",
    "version": 3
   },
   "file_extension": ".py",
   "mimetype": "text/x-python",
   "name": "python",
   "nbconvert_exporter": "python",
   "pygments_lexer": "ipython3",
   "version": "3.6.0"
  }
 },
 "nbformat": 4,
 "nbformat_minor": 2
}
