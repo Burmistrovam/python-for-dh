{
 "cells": [
  {
   "cell_type": "markdown",
   "metadata": {},
   "source": [
    "## Python Installation\n",
    "\n",
    "Установочный файл можно скачать [вот отсюда](https://www.python.org/downloads/), выбрав версию 3.6.4 для своей операционной системы.\n",
    "\n",
    "### Проверка связи\n",
    "\n",
    "Открываем терминал и пишем там `python`: если там появляется версия питона + еще некоторый служебный текст -- значит, все хорошо. Если же вам говорят, что \"python не является внутренней или внешней командой, исполняемой программой или пакетным файлом\" -- значит, надо настроить окружение.\n",
    "\n",
    "### Настройка окружения\n",
    "\n",
    "Если при вводе python в командную строку появляется ошибка, нужно прописать путь к питону в переменной среды (окружения) PATH. Эта переменная содержит список директорий, в которых операционная система должна искать исполняемые файлы. В качестве разделителя используется точка с запятой (;) в операционной системе Windows и двоеточие (:) в операционных системах Linux и MacOS. Очень хорошее краткое объяснение переменных среды в целом и PATH в частности можно почитать [вот тут](http://barancev.github.io/what-is-path-env-var/). На Windows добавить новую строку в PATH можно через `Изменение системных переменных среды > Переменные среды > PATH > Изменить`. В разных версиях и локализациях Windows это может называться \"переменными окружения\" или \"environment variables\". Например, если у вас Anaconda (подробнее о ней см. дальше), то в PATH должны быть строки следующего типа:\n",
    "\n",
    "`C:\\Users\\ancatmara\\Anaconda3\n",
    "C:\\Users\\ancatmara\\Anaconda3\\Lib\\bin\n",
    "C:\\Users\\ancatmara\\Anaconda3\\Scripts`\n",
    "\n",
    "А если обычный питон - то что-то вот такое.\n",
    "\n",
    "`C:\\ProgramFiles\\Python3\n",
    "C:\\ProgramFiles\\Python3\\Lib\n",
    "C:\\ProgramFiles\\Python3\\Scripts`\n",
    "\n",
    "\n",
    "## Python 2.x vs Python 3.x\n",
    "\n",
    "### Что это еще за две версии такие?\n",
    "\n",
    "* Python 2.0 был выпущен в 2000 г. и содержал столько нововведений по сравнению с появившейся в 1991 г. первой версией языка, что нельзя было как-то не отметить эту ступень развития. На втором питоне написано достаточно много всего, в т.ч. в крупных компаниях вроде Яндекса и Лаборатории Касперского, но на данный момент разработка на нем уже почти не ведется -- он используется только для поддержки старых компонентов.\n",
    "* Python 3.0 появился в 2008 г. и также отличался множеством структурных нововведений. Мы используем именно его, потому что это последняя версия языка и вообще передний край разработки :)\n",
    "\n",
    "### Как понять, на каком питоне написан код?\n",
    "\n",
    "Исчерпывающий список различий перечислен [тут](http://sebastianraschka.com/Articles/2014_python_2_3_key_diff.html), но необязательно разбираться во всех них: достаточно запомнить, что во втором питоне принты без скобочек, а в третьем -- со скобочками. Вот так:\n",
    "\n",
    "**Python 2**\n",
    "\n",
    "`print \"Hello world!\"`\n",
    "\n",
    "&gt;&gt; Hello world!\n",
    "\n",
    "**Python 3**\n",
    "\n",
    "`print(\"Hello world!\")`\n",
    "\n",
    "&gt;&gt; Hello world!\n",
    "\n",
    "### PEP8\n",
    "\n",
    "**PEP** (Python Enhancement Proposal) -- техническая спецификация и правила хорошего тона, а PEP8 -- их последняя версия.\n",
    "[Style Guide for Python Code](http://legacy.python.org/dev/peps/pep-0008/)\n",
    "[То же самое, но попроще и в сокращении](http://docs.python-guide.org/en/latest/writing/style/)\n",
    "\n",
    "\n",
    "## IDE\n",
    "\n",
    "**IDE** (Integrated Development Environment) -- среда разработки, которая включает в себя\n",
    "* текстовый редактор, где вы пишете код;\n",
    "* компилятор/интерпретатор (то, с помощью чего исполняется ваш код)\n",
    "* отладчик (дебаггер), который помогает найти ошибки в коде\n",
    "\n",
    "### Компилятор?? Интерпретатор????\n",
    "\n",
    "Все языки программирования делятся на \n",
    "* компилируемые (Pascal, Visual Basic, C++, C#, Haskell...)\n",
    "* интерпретируемые (Java, Python, Ruby)\n",
    "\n",
    "Интерпретатор питона -- это специальная программа, файл `python.exe`.\n",
    "\n",
    "![](https://cdn.tproger.ru/wp-content/uploads/2016/12/concepts2mini.png)\n",
    "\n",
    "А еще среди языков программирования выделяют\n",
    "* низкоуровневые (близкие к машинному коду)\n",
    "* высокоуровневые (наиболее человекочитаемые)\n",
    "\n",
    "### Python IDEs\n",
    "\n",
    "Существует не одна IDE для питона. В стандартной сборке уже есть простенькая IDLE; если она вас не устраивает, то можно установить что-то с более широкими возмононостями вроде [PyCharm](https://www.jetbrains.com/pycharm/). Но на самом деле, чтобы писать код достаточно будет командной строки и любого текстового редактора -- Notepad++, Atom, Sublime и т.д. Многие из них включают в себя подсветку синтаксиса, автозаполнение и прочие нужные вещи. **NB!** Чтобы файл исполнялся, у него должно быть расширение `.py`\n",
    "\n",
    "### Jupyter Notebooks\n",
    "\n",
    "Мы будем работать не только с запуском скриптов (= файлов с кодом) из командной строки, но и с jupyter notebooks. Это очень удобный формат, в котором код можно запускать не целиком, а по ячейкам. Кроме того, ячейки бывают текстовыми -- их можно форматировать с помощью markdown. Конспект, который вы сейчас читаете, написан как раз в таком формате. Файлы jupyter notebook имеют расширение `.ipynb` и автоматически рендерятся гитхабом (т.е. просто открываете такой файл и видите красоту).\n",
    "\n",
    "## Package Installation\n",
    "\n",
    "В стандартной сборке питона есть только самые базовые функции -- для всего остального нужно устанавливать сторонние библиотеки. Все-все проверенные пакеты есть на [PyPI](https://pypi.python.org/pypi) (Python Package Index).\n",
    "\n",
    "### pip\n",
    "\n",
    "**pip** -- это специальный питоновский скрипт, который позволяет устанавливать новые пакеты простой командой `pip install package-name`. Чтобы делать такие тетрадки, как эта, нам понадобятся пакеты ipython и jupyter -- и например, чтобы установить jupyter, мы напишем в командной строке `pip install jupyter`.\n",
    "\n",
    "**NB!** Если вы видите ошибку, что pip не является командой или программой, вернитесь к настройке окружения. \n",
    "\n",
    "Подробнее о работе с pip можно почитать на [официальном сайте с документацией](https://pip.pypa.io/en/stable/).\n",
    "\n",
    "### Anaconda\n",
    "\n",
    "Если не хочется установить набор часто использующихся пакетов сразу, чтобы не устанавливать их по одному в процессе работы, можно поставить **Anaconda** -- это дистрибутив питона, который включает в себя помимо интерпретатора и базовых функций некоторый набор популярных сторонних библиотек. Скачать ее можно [отсюда](https://www.anaconda.com/download/). У анаконды есть собственный менеджер пакетов, `conda`: так, чтобы установить jupyter при наличии анаконды, можно написать в командной строке как `pip install jupyter`, так и `conda install jupyter`.  Конечно же, для conda есть [шпаргалка с командами](https://conda.io/docs/_downloads/conda-cheatsheet.pdf) и [сайт с документацией](https://conda.io/docs/index.html).\n",
    "\n",
    "## Python и командная строка\n",
    "\n",
    "|Команда| Значение|\n",
    "|-------| -------:|\n",
    "|python| Запустить питон в терминале |\n",
    "|python --version| Посмотреть версию питона|\n",
    "|jupyter notebook| Запустить jupyter|\n",
    "|pip freeze| Посмотреть список установленных пакетов|\n",
    "|pip install| Установить пакет|\n",
    "|pip uninstall| Удалить пакет|\n",
    "|pip show| Показать информацию о конкретном пакете|\n",
    "|pip search| Найти пакет (если вы хотите установить что-то новое, но точно не помните название)|\n",
    "\n",
    "## Python как калькулятор\n",
    "\n",
    "Ну что, поехали? Компьютер, как следует из названия, был создан для того, чтобы производить вычисления -- вот пусть и считает!"
   ]
  },
  {
   "cell_type": "code",
   "execution_count": 2,
   "metadata": {
    "collapsed": false
   },
   "outputs": [
    {
     "data": {
      "text/plain": [
       "3"
      ]
     },
     "execution_count": 2,
     "metadata": {},
     "output_type": "execute_result"
    }
   ],
   "source": [
    "# Если строчка начинается с решетки -- это комментарий.\n",
    "# Комментарий объясняет, что происходит в том или ином месте кода.\n",
    "# Комментарии -- это очень хорошо. Не забывайте писать комментарии!\n",
    "\n",
    "# Создаем переменные х и y и присваиваем им значения 1 и 2 соответственно\n",
    "x = 1\n",
    "y = 2\n",
    "\n",
    "# Считаем сумму \n",
    "x + y"
   ]
  },
  {
   "cell_type": "markdown",
   "metadata": {},
   "source": [
    "Вычисления произведены, но ответ 3 не остался в памяти. Если мы хотим его сохранить, нужно записать его в какую-нибудь переменную."
   ]
  },
  {
   "cell_type": "code",
   "execution_count": 3,
   "metadata": {
    "collapsed": false
   },
   "outputs": [
    {
     "name": "stdout",
     "output_type": "stream",
     "text": [
      "3\n"
     ]
    }
   ],
   "source": [
    "z = x + y\n",
    "print(z)"
   ]
  },
  {
   "cell_type": "markdown",
   "metadata": {},
   "source": [
    "Иксы и игреки -- это скучно, так что давайте лучше посчитаем котиков и пёсиков (а заодно запоминим, что переменные нужно называть понятно!)"
   ]
  },
  {
   "cell_type": "code",
   "execution_count": 4,
   "metadata": {
    "collapsed": false
   },
   "outputs": [
    {
     "name": "stdout",
     "output_type": "stream",
     "text": [
      "15\n",
      "12\n",
      "5.0\n",
      "35\n"
     ]
    }
   ],
   "source": [
    "cats = 7\n",
    "dogs = 5\n",
    "elephants = 3\n",
    "\n",
    "animals = cats + dogs + elephants\n",
    "print(animals)\n",
    "\n",
    "domestic_animals = animals - elephants\n",
    "print(domestic_animals)\n",
    "\n",
    "# Делим животных между 3 зоопарками\n",
    "zoo_share = animals / 3\n",
    "print(zoo_share)\n",
    "\n",
    "# Помножим котиков на пёсиков, что бы это ни значило :)\n",
    "genetic_experiment = cats * dogs\n",
    "print(genetic_experiment)"
   ]
  },
  {
   "cell_type": "markdown",
   "metadata": {},
   "source": [
    "А если мы хотим распечатать не только числа, но и какое-то текстовое пояснение?"
   ]
  },
  {
   "cell_type": "code",
   "execution_count": 5,
   "metadata": {
    "collapsed": false
   },
   "outputs": [
    {
     "name": "stdout",
     "output_type": "stream",
     "text": [
      "Всего животных: 15\n",
      "Всего животных: 15\n",
      "Всего животных: 15\n"
     ]
    }
   ],
   "source": [
    "# Можно сделать так\n",
    "print(\"Всего животных: \" + str(animals))\n",
    "\n",
    "# А можно так\n",
    "print(\"Всего животных: %s\" % (animals))\n",
    "\n",
    "# А можно вот так\n",
    "print('Всего животных: {}'.format(animals))"
   ]
  },
  {
   "cell_type": "markdown",
   "metadata": {},
   "source": [
    "Если же мы попробуем написать вот такое выражение, то ничего не получится."
   ]
  },
  {
   "cell_type": "code",
   "execution_count": 6,
   "metadata": {
    "collapsed": false
   },
   "outputs": [
    {
     "ename": "TypeError",
     "evalue": "must be str, not int",
     "output_type": "error",
     "traceback": [
      "\u001b[0;31m---------------------------------------------------------------------------\u001b[0m",
      "\u001b[0;31mTypeError\u001b[0m                                 Traceback (most recent call last)",
      "\u001b[0;32m<ipython-input-6-93a03a0648be>\u001b[0m in \u001b[0;36m<module>\u001b[0;34m()\u001b[0m\n\u001b[0;32m----> 1\u001b[0;31m \u001b[0mprint\u001b[0m\u001b[1;33m(\u001b[0m\u001b[1;34m\"Всего животных: \"\u001b[0m \u001b[1;33m+\u001b[0m \u001b[0manimals\u001b[0m\u001b[1;33m)\u001b[0m\u001b[1;33m\u001b[0m\u001b[0m\n\u001b[0m",
      "\u001b[0;31mTypeError\u001b[0m: must be str, not int"
     ]
    }
   ],
   "source": [
    "print(\"Всего животных: \" + animals)"
   ]
  },
  {
   "cell_type": "markdown",
   "metadata": {},
   "source": [
    "Почему? О чем говорит эта ошибка?\n",
    "* о том, что существуют разные типы данных\n",
    "* о том, что нельзя проводить одну операцию (сложение, печать и т.д. и т.п.) над данными разных типов\n",
    "\n",
    "Вот основные типы данных, с которыми мы будем сталкиваться.\n",
    "\n",
    "|англ|рус|название в питоне|пример|\n",
    "|----|---|-----------------|------|\n",
    "|string|строка|str|\"привет\", \"10\", \"True\"|\n",
    "|integer|целое число|int|23, 9807|\n",
    "|float|дробь (с плавающей запятой)|float|0.5, 67.0|\n",
    "|boolean|логический тип|bool|True, False|\n",
    "\n",
    "Данные можно преобразовывать из одного типа в другой:"
   ]
  },
  {
   "cell_type": "code",
   "execution_count": 8,
   "metadata": {
    "collapsed": false
   },
   "outputs": [
    {
     "name": "stdout",
     "output_type": "stream",
     "text": [
      "<class 'bool'>\n",
      "<class 'str'>\n"
     ]
    }
   ],
   "source": [
    "x = True\n",
    "print(type(x))\n",
    "\n",
    "y = str(x)\n",
    "print(type(y))"
   ]
  },
  {
   "cell_type": "code",
   "execution_count": 10,
   "metadata": {
    "collapsed": false
   },
   "outputs": [
    {
     "name": "stdout",
     "output_type": "stream",
     "text": [
      "25\n",
      "<class 'int'>\n",
      "25.0\n",
      "<class 'float'>\n"
     ]
    }
   ],
   "source": [
    "x = 25\n",
    "print(x)\n",
    "print(type(x))\n",
    "\n",
    "y = float(x)\n",
    "print(y)\n",
    "print(type(y))"
   ]
  },
  {
   "cell_type": "markdown",
   "metadata": {},
   "source": [
    "Можно складывать и вычитать не только целые числа и дроби, но и строки! Это называется *конкатенация*."
   ]
  },
  {
   "cell_type": "code",
   "execution_count": 12,
   "metadata": {
    "collapsed": false
   },
   "outputs": [
    {
     "name": "stdout",
     "output_type": "stream",
     "text": [
      "aaaaaaaaaa!\n"
     ]
    }
   ],
   "source": [
    "sound = \"a\"\n",
    "scream = sound * 10 + \"!\"\n",
    "print(scream)"
   ]
  },
  {
   "cell_type": "markdown",
   "metadata": {},
   "source": [
    "А еще можно проверять выражения на истинность и ложность. Это очень важная функция, которая не раз пригодится нам в будущем."
   ]
  },
  {
   "cell_type": "code",
   "execution_count": 13,
   "metadata": {
    "collapsed": false
   },
   "outputs": [
    {
     "data": {
      "text/plain": [
       "True"
      ]
     },
     "execution_count": 13,
     "metadata": {},
     "output_type": "execute_result"
    }
   ],
   "source": [
    "1 > -1"
   ]
  },
  {
   "cell_type": "code",
   "execution_count": 14,
   "metadata": {
    "collapsed": false
   },
   "outputs": [
    {
     "data": {
      "text/plain": [
       "True"
      ]
     },
     "execution_count": 14,
     "metadata": {},
     "output_type": "execute_result"
    }
   ],
   "source": [
    "6 >= 0"
   ]
  },
  {
   "cell_type": "code",
   "execution_count": 17,
   "metadata": {
    "collapsed": false
   },
   "outputs": [
    {
     "data": {
      "text/plain": [
       "False"
      ]
     },
     "execution_count": 17,
     "metadata": {},
     "output_type": "execute_result"
    }
   ],
   "source": [
    "# обратите внимание, что при сравнении используется не =, а ==\n",
    "\"cat\" == \"dog\""
   ]
  },
  {
   "cell_type": "code",
   "execution_count": 16,
   "metadata": {
    "collapsed": false
   },
   "outputs": [
    {
     "data": {
      "text/plain": [
       "False"
      ]
     },
     "execution_count": 16,
     "metadata": {},
     "output_type": "execute_result"
    }
   ],
   "source": [
    "# а теперь \"не равно\"\n",
    "2 * 2 != 4"
   ]
  },
  {
   "cell_type": "markdown",
   "metadata": {},
   "source": [
    "## The Zen of Python\n",
    "\n",
    "<s>95</s> 20 тезисов Тима Питерса"
   ]
  },
  {
   "cell_type": "code",
   "execution_count": 1,
   "metadata": {
    "collapsed": false
   },
   "outputs": [
    {
     "name": "stdout",
     "output_type": "stream",
     "text": [
      "The Zen of Python, by Tim Peters\n",
      "\n",
      "Beautiful is better than ugly.\n",
      "Explicit is better than implicit.\n",
      "Simple is better than complex.\n",
      "Complex is better than complicated.\n",
      "Flat is better than nested.\n",
      "Sparse is better than dense.\n",
      "Readability counts.\n",
      "Special cases aren't special enough to break the rules.\n",
      "Although practicality beats purity.\n",
      "Errors should never pass silently.\n",
      "Unless explicitly silenced.\n",
      "In the face of ambiguity, refuse the temptation to guess.\n",
      "There should be one-- and preferably only one --obvious way to do it.\n",
      "Although that way may not be obvious at first unless you're Dutch.\n",
      "Now is better than never.\n",
      "Although never is often better than *right* now.\n",
      "If the implementation is hard to explain, it's a bad idea.\n",
      "If the implementation is easy to explain, it may be a good idea.\n",
      "Namespaces are one honking great idea -- let's do more of those!\n"
     ]
    }
   ],
   "source": [
    "import this"
   ]
  },
  {
   "cell_type": "markdown",
   "metadata": {},
   "source": [
    "## Полезные ссылки\n",
    "\n",
    "### Где читать документацию?\n",
    "\n",
    "[Keep this under your pillow :)](https://docs.python.org/3/)\n",
    "\n",
    "### Где тренироваться?\n",
    "\n",
    "Например, на [codecademy](https://www.codecademy.com/learn/learn-python) или любом другом сайте с интерактивными упражнениями.\n",
    "\n",
    "### Где искать ответы на вопросы?\n",
    "\n",
    "\"Google Driven Development\":\n",
    "\n",
    "* Загугли проблему\n",
    "* В топе выдачи будет её решение на [stackoverflow](https://stackoverflow.com/)\n",
    "* Не нашлось? Задай вопрос на stackoverflow сам!\n",
    "\n",
    "![](http://memesmix.net/media/created/v0h0oj.jpg)"
   ]
  }
 ],
 "metadata": {
  "kernelspec": {
   "display_name": "Python 3",
   "language": "python",
   "name": "python3"
  },
  "language_info": {
   "codemirror_mode": {
    "name": "ipython",
    "version": 3
   },
   "file_extension": ".py",
   "mimetype": "text/x-python",
   "name": "python",
   "nbconvert_exporter": "python",
   "pygments_lexer": "ipython3",
   "version": "3.6.0"
  }
 },
 "nbformat": 4,
 "nbformat_minor": 2
}
